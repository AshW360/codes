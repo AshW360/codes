{
  "nbformat": 4,
  "nbformat_minor": 0,
  "metadata": {
    "colab": {
      "provenance": [],
      "authorship_tag": "ABX9TyOtNT0XuzqFS8la6LqHA1Vj"
    },
    "kernelspec": {
      "name": "python3",
      "display_name": "Python 3"
    },
    "language_info": {
      "name": "python"
    }
  },
  "cells": [
    {
      "cell_type": "code",
      "source": [
        "from google.colab import drive\n",
        "drive.mount('/content/drive')\n",
        "\n",
        "from csv import reader, writer \n",
        "with open('/content/drive/My Drive/Biomarkers_CESC/input.csv') as f, open('/content/drive/My Drive/Biomarkers_CESC/output.csv', 'w') as fw: \n",
        "    writer(fw, delimiter=',').writerows(zip(*reader(f, delimiter=',')))"
      ],
      "metadata": {
        "id": "OJpn1_FNyYsR",
        "colab": {
          "base_uri": "https://localhost:8080/"
        },
        "outputId": "aa94325d-f342-44d9-add5-a6223c1744d9"
      },
      "execution_count": null,
      "outputs": [
        {
          "output_type": "stream",
          "name": "stdout",
          "text": [
            "Mounted at /content/drive\n"
          ]
        }
      ]
    }
  ]
}